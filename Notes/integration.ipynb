{
 "cells": [
  {
   "cell_type": "markdown",
   "id": "21f813fa",
   "metadata": {},
   "source": [
    "# Discretising infinite integrals\n",
    "\n",
    "For the multilayer finite dipole method (FDM), we need to calculate the electric potential and field at the surface using integrals of the form\n",
    "$$\n",
    "\\int_0^\\infty\\beta(k)f(k)dk\n",
    "$$\n",
    "where $f(k)$ is a weighting function\n",
    "$$\n",
    "f(k)=\\begin{equation}\n",
    "\\left\\{ \n",
    "  \\begin{aligned}\n",
    "    e^{-2k}, & \\text{ for potential},\\\\\n",
    "    -k e^{-2k}, & \\text{ for electric field}.\n",
    "  \\end{aligned}\n",
    "  \\right.\n",
    "\\end{equation}\n",
    "$$\n",
    "\n",
    "`scipy.integrate.quad_vec` can perform infinite integrals, but it relies on adaptive quadrature and it can't be compiled using `numba`.\n",
    "It would be faster if we could truncate the infinite integral then perform fixed quadrature taking advantage of `numpy`/`numba`'s fast vectorised array routines.\n",
    "\n",
    "We don't always know the form of $\\beta(k)$, but we can assume that when the weighting function $f(x)$ converges then the whole integrand must also converge (unless $\\beta(k)>>f(k)$, which seems unlikely).\n",
    "\n",
    "We can quantify the proportion of the total integral accounted for for a particular truncation as\n",
    "$$\n",
    "\\frac{\\int_0^{k_{max}}f(k)dk}{\\int_0^\\infty f(k)dk} = \\begin{equation}\n",
    "\\left\\{ \n",
    "  \\begin{aligned}\n",
    "    1 - e^{-2k_{max}}, & \\text{ for potential},\\\\\n",
    "    1 - (2k_{max}+1)e^{-2k_{max}}, & \\text{ for electric field},\n",
    "  \\end{aligned}\n",
    "  \\right.\n",
    "\\end{equation}\n",
    "$$\n",
    "where $k_{max}$ is the value of $k$ at which to truncate the integral.\n",
    "This will yield a good approximation to the accuracy of the full integral.\n",
    "\n",
    "Once a truncation point has been set, a definite integral can be estimated using a simple quadrature algoritm such as the trapezium rule.\n",
    "However both forms of $f(x)$ are strongly weighted towards values of $k$ close to zero, which could mean fixed width quadrature could be inefficient, or introduce large errors (in order to capture the sharp features close to $k=0$ with enough detail, a narrow bin width would need to be chosen, but that would mean many bins further from zero capturing the approximately flat tail of the distribution.\n",
    "\n",
    "To alleviate this problem, the widths of the bins can be varied according to the known properties of the weighting functions $f(x)$, such that each bin contains an equal proportion of the total area of the integral between $0$ and $k_{max}$.\n",
    "The edges of the bins can be found by solving\n",
    "$$\n",
    "\\int_0^{k_{p}} f(k)dk = p \\int_0^{k_{max}} f(k)dk\n",
    "$$\n",
    "where $k_{p}$ is a limit ($<k_{max}$) of a smaller section of the total integral, and $p$ is the proportion of the total integral which it accounts for.\n",
    "\n",
    "For electric potential, the value has an algebraic form given by\n",
    "$$\n",
    "k_p = -\\frac{\\ln{\\left(1-p\\left(1-e^{-2k_{max}}\\right)\\right)}}{2}.\n",
    "$$\n",
    "\n",
    "For electric field, the value has no convenient algebraic form and must be found by inverting the equation\n",
    "$$\n",
    "p = \\frac{1 - (2k_p + 1)e^{-2k_p}}{1 - (2k_{max} + 1)e^{-2k_{max}}}.\n",
    "$$\n",
    "\n",
    "The cells below contain interactive widgets which demonstrate the concepts discussed above."
   ]
  },
  {
   "cell_type": "code",
   "execution_count": 1,
   "id": "f4c32b3b",
   "metadata": {},
   "outputs": [],
   "source": [
    "import numpy as np\n",
    "from scipy.integrate import quad_vec\n",
    "import ipywidgets as widgets\n",
    "import matplotlib.pyplot as plt"
   ]
  },
  {
   "cell_type": "code",
   "execution_count": 3,
   "id": "ea5c1e70",
   "metadata": {},
   "outputs": [
    {
     "data": {
      "application/vnd.jupyter.widget-view+json": {
       "model_id": "b5aece563a4c429ebe2ebe10dcdf73b8",
       "version_major": 2,
       "version_minor": 0
      },
      "text/plain": [
       "interactive(children=(IntSlider(value=64, description='N', max=128, min=1), FloatSlider(value=2.5, description…"
      ]
     },
     "metadata": {},
     "output_type": "display_data"
    }
   ],
   "source": [
    "@widgets.interact(N=(1, 128, 1), x_max=(0.0, 5))\n",
    "def f_plot(N, x_max):\n",
    "    def f(x):\n",
    "        return np.exp(-2*x)\n",
    "\n",
    "    x_lims = -1, 5\n",
    "    y_lims = -0.1, 1.1\n",
    "    \n",
    "    x_line = np.linspace(*x_lims, 512)\n",
    "    y_line = f(x_line)\n",
    "    \n",
    "    x = -np.log(1 - np.linspace(0, 1, N+1) * (1 - np.exp(-2 * x_max))) / 2\n",
    "    total, _ = quad_vec(f, 0, x_max)\n",
    "    components = [quad_vec(f, x[i], x[i+1])[0] for i in range(N)]\n",
    "    \n",
    "    fig, ax = plt.subplots()\n",
    "    \n",
    "    ax.plot(x_line, y_line)\n",
    "    ax.scatter(x, f(x))\n",
    "    \n",
    "    ax.axvline(0)\n",
    "    ax.axvline(x_max)\n",
    "    text = [ax.text(x[i], f(x[i]), f\"{N*components[i]/total:g}\") for i in range(N)]\n",
    "    \n",
    "    ax.set(\n",
    "        xlim=x_lims,\n",
    "        ylim=y_lims,\n",
    "    )\n",
    "    fig.tight_layout()\n",
    "    plt.show()"
   ]
  },
  {
   "cell_type": "code",
   "execution_count": 5,
   "id": "298af850",
   "metadata": {},
   "outputs": [
    {
     "data": {
      "application/vnd.jupyter.widget-view+json": {
       "model_id": "f13a541985f54ecf838ca4a332396cdd",
       "version_major": 2,
       "version_minor": 0
      },
      "text/plain": [
       "interactive(children=(IntSlider(value=64, description='N', max=128, min=1), FloatSlider(value=2.5, description…"
      ]
     },
     "metadata": {},
     "output_type": "display_data"
    }
   ],
   "source": [
    "@widgets.interact(N=(1, 128, 1), x_max=(0.0, 5))\n",
    "def g_plot(N, x_max):\n",
    "    def g(x):\n",
    "        return -x * np.exp(-2*x)\n",
    "    \n",
    "    x_lims = -1, 5\n",
    "    y_lims = -0.3, 0.1\n",
    "    \n",
    "    x_line = np.linspace(*x_lims, 512)\n",
    "    y_line = g(x_line)\n",
    "    \n",
    "    _y = np.linspace(0, x_max, 64)\n",
    "    _x = (1 - (2 * _y + 1) * np.exp(-2 * _y)) / (1 - (2 * x_max + 1) * np.exp(-2 * x_max))\n",
    "    x = np.interp(np.linspace(0, 1, N+1), _x, _y)\n",
    "    total, _ = quad_vec(g, 0, x_max)\n",
    "    components = [quad_vec(g, x[i], x[i+1])[0] for i in range(N)]\n",
    "    \n",
    "    fig, ax = plt.subplots()\n",
    "    \n",
    "    ax.plot(x_line, y_line)\n",
    "    ax.scatter(x, g(x))\n",
    "    \n",
    "    ax.axvline(0)\n",
    "    ax.axvline(x_max)\n",
    "    text = [ax.text(x[i], g(x[i]), f\"{N*components[i]/total:g}\") for i in range(N)]\n",
    "    \n",
    "    ax.set(\n",
    "        xlim=x_lims,\n",
    "        ylim=y_lims,\n",
    "    )\n",
    "    fig.tight_layout()\n",
    "    plt.show()"
   ]
  },
  {
   "cell_type": "code",
   "execution_count": null,
   "id": "90d3bfa4",
   "metadata": {},
   "outputs": [],
   "source": []
  }
 ],
 "metadata": {
  "kernelspec": {
   "display_name": "Python 3 (ipykernel)",
   "language": "python",
   "name": "python3"
  },
  "language_info": {
   "codemirror_mode": {
    "name": "ipython",
    "version": 3
   },
   "file_extension": ".py",
   "mimetype": "text/x-python",
   "name": "python",
   "nbconvert_exporter": "python",
   "pygments_lexer": "ipython3",
   "version": "3.10.4"
  }
 },
 "nbformat": 4,
 "nbformat_minor": 5
}
