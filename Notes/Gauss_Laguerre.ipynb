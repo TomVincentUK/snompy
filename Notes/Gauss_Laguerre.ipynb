{
 "cells": [
  {
   "attachments": {},
   "cell_type": "markdown",
   "id": "21f813fa",
   "metadata": {},
   "source": [
    "# Semi-definite integrals with Gauss-Laguerre quadrature\n",
    "\n",
    "For the multilayer finite dipole method (FDM), we need to calculate the electric potential and field induced at a surface by a charge $q$ using the integrals\n",
    "$$\n",
    "\\begin{align*}\n",
    "  \\phi &= \\int_0^\\infty \\beta(k) e^{-2 z_q k} dk, \\text{ and}\\\\\n",
    "  E_z &= \\int_0^\\infty \\beta(k) k e^{-2 z_q k} dk,\n",
    "\\end{align*}\n",
    "$$\n",
    "where $k$ is the in-plane momentum, $\\beta(k)$ is the effective surface reflection coefficient, and $z_q$ is the height of the charge above the surface.\n",
    "\n",
    "`scipy.integrate.quad_vec` can perform infinite integrals, but it can't be compiled using `numba`, which means it can't be called from within other `numba`-compiled functions.\n",
    "I want to find a way to evaluate the integrals without relying on `scipy.integrate.quad_vec`.\n",
    "\n",
    "## Gauss-Laguerre quadrature\n",
    "\n",
    "Gauss-Laguerre quadrature is a version of Gaussian quadrature which evaluates exponentially weighted integrals according to\n",
    "$$\n",
    "\\int_0^{\\infty} e^{-x} f(x) dx \\approx \\sum_{n=1}^N w_n f(x_n),\n",
    "$$\n",
    "where $x_n$ is the $n^{th}$ root of the Laguerre polynomial\n",
    "$$\n",
    "L_N(x) = \\sum_{n=0}^{N} {N \\choose n} \\frac{(-1)^n}{n!} x^n,\n",
    "$$\n",
    "and $w_n$ is a weight given by\n",
    "$$\n",
    "w_n = \\frac{x_n}{\\left((N + 1) L_{N+1}(x_n) \\right)^2}.\n",
    "$$\n",
    "\n",
    "Evaluating the roots and weights can be complicated, but thankfully numpy has a function `numpy.polynomial.laguerre.laggauss(deg)`, which returns `(x, y)`, the roots and weights of the Laguerre polynomial for $N=$ `deg`.\n",
    "\n",
    "## Adapting the integrals\n",
    "\n",
    "To convert the integrals to the needed form, we can use the substitution $x = 2 z_q k$, so that\n",
    "$$\n",
    "\\begin{align*}\n",
    "  \\phi\n",
    "  & = \\frac{1}{2 z_q} \\int_0^\\infty \\beta\\left(\\frac{x}{2 z_q}\\right) e^{-x} dx, \\text{ and}\\\\\n",
    "  E_z\n",
    "  & = \\frac{1}{4 z_q^2} \\int_0^\\infty \\beta\\left(\\frac{x}{2 z_q}\\right) x e^{-x} dx.\n",
    "\\end{align*}\n",
    "$$\n",
    "\n",
    "We can then evaluate the integrals with the approximations\n",
    "$$\n",
    "\\begin{align*}\n",
    "  \\phi\n",
    "  & \\approx \\frac{1}{2 z_q} \\sum_{n=1}^N w_n \\beta\\left(\\frac{x_n}{2 z_q}\\right), \\text{ and}\\\\\n",
    "  E_z\n",
    "  & \\approx \\frac{1}{4 z_q^2} \\sum_{n=1}^N w_n \\beta\\left(\\frac{x_n}{2 z_q}\\right) x_n.\n",
    "\\end{align*}\n",
    "$$"
   ]
  },
  {
   "cell_type": "code",
   "execution_count": null,
   "id": "c54a99d0",
   "metadata": {},
   "outputs": [],
   "source": []
  },
  {
   "attachments": {},
   "cell_type": "markdown",
   "id": "bade5336",
   "metadata": {},
   "source": [
    "\n"
   ]
  }
 ],
 "metadata": {
  "kernelspec": {
   "display_name": "fdm",
   "language": "python",
   "name": "python3"
  },
  "language_info": {
   "codemirror_mode": {
    "name": "ipython",
    "version": 3
   },
   "file_extension": ".py",
   "mimetype": "text/x-python",
   "name": "python",
   "nbconvert_exporter": "python",
   "pygments_lexer": "ipython3",
   "version": "3.10.8 | packaged by conda-forge | (main, Nov 24 2022, 14:07:00) [MSC v.1916 64 bit (AMD64)]"
  },
  "vscode": {
   "interpreter": {
    "hash": "75fc7488300efd183dfa9bfc07cc81f581f15644376c13a280399bde1f168f9a"
   }
  }
 },
 "nbformat": 4,
 "nbformat_minor": 5
}
